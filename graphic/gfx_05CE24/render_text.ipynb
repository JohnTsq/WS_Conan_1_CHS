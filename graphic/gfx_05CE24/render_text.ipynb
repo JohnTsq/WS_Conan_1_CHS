{
 "cells": [
  {
   "cell_type": "code",
   "execution_count": 191,
   "id": "c864d39c",
   "metadata": {},
   "outputs": [
    {
     "name": "stdout",
     "output_type": "stream",
     "text": [
      "(0, 156, 189, 255)\n"
     ]
    }
   ],
   "source": [
    "from PIL import Image, ImageDraw, ImageFont\n",
    "from pathlib import Path\n",
    "from pprint import pp\n",
    "\n",
    "tile_size = 8\n",
    "font_path = r'D:\\Users\\John\\Code\\WS_Conan_1_CHS\\resources\\胡晓波男神体2.0.otf'\n",
    "image_path = Path('pal1_00-9C-BD-FF.png')\n",
    "optimal_font_size = []\n",
    "\n",
    "palette = None\n",
    "with Image.open(image_path) as im:\n",
    "    palette = tuple(entry[1] for entry in im.convert('L').getcolors())\n",
    "\n",
    "pp(palette)"
   ]
  },
  {
   "cell_type": "code",
   "execution_count": 192,
   "id": "ccfac542",
   "metadata": {},
   "outputs": [],
   "source": [
    "def real_bbox(text, font_path: str, font_size: int) -> Image:\n",
    "    with Image.new('L', (max_width*3, max_height*3)) as img:\n",
    "        draw = ImageDraw.Draw(img)\n",
    "        font = ImageFont.truetype(font_path, font_size)\n",
    "        draw.text(\n",
    "            (max_width, max_height), text, font=font, fill=\"white\",\n",
    "            align=\"center\", spacing=-0.8,\n",
    "            stroke_width=0.5, stroke_fill=192\n",
    "        )\n",
    "        \n",
    "        xMin = max_width\n",
    "        yMin = max_height\n",
    "        xMax, yMax = 0, 0\n",
    "        for y in range(img.height):\n",
    "            for x in range(img.width):\n",
    "                if (v := img.getpixel((x, y))) not in palette:\n",
    "                    v = min(palette, key=lambda c: abs(c**2-v**2))\n",
    "                    img.putpixel((x, y), v)\n",
    "                    \n",
    "                if v != 0:\n",
    "                    xMin = min(xMin, x)\n",
    "                    yMin = min(yMin, y)\n",
    "                    xMax = max(xMax, x)\n",
    "                    yMax = max(yMax, y)\n",
    "\n",
    "        return img.crop((xMin, yMin, xMax+1, yMax+1))"
   ]
  },
  {
   "cell_type": "code",
   "execution_count": 193,
   "id": "630b6ed3",
   "metadata": {},
   "outputs": [
    {
     "name": "stdout",
     "output_type": "stream",
     "text": [
      "font_size = 17\n",
      "width = 17, height = 72\n",
      "img.getcolors() = [(552, 0), (90, 156), (142, 189), (440, 255)]\n"
     ]
    },
    {
     "data": {
      "image/jpeg": "[encoded data removed]",
      "image/png": "[encoded data removed]",
      "text/plain": [
       "<PIL.Image.Image image mode=L size=17x72>"
      ]
     },
     "execution_count": 193,
     "metadata": {},
     "output_type": "execute_result"
    }
   ],
   "source": [
    "text = \"女高中生\"\n",
    "max_columns = 2.5\n",
    "max_rows = 9\n",
    "\n",
    "max_width = int(max_columns * tile_size)\n",
    "max_height = int(max_rows * tile_size)\n",
    "\n",
    "font_size = max(max_width, max_height)\n",
    "while True:\n",
    "    img = real_bbox(\"\\n\".join(tuple(text)), font_path, font_size)\n",
    "    if img.height > max_height or img.width > max_width:\n",
    "        font_size -= 1\n",
    "    else:\n",
    "        print(f'{font_size = }')\n",
    "        optimal_font_size.append(font_size)\n",
    "        break\n",
    "\n",
    "print(f'width = {img.width}, height = {img.height}')\n",
    "print(f'{img.getcolors() = }')\n",
    "img"
   ]
  },
  {
   "cell_type": "code",
   "execution_count": 194,
   "id": "ddd81578",
   "metadata": {},
   "outputs": [
    {
     "name": "stdout",
     "output_type": "stream",
     "text": [
      "font_size = 17\n",
      "width = 17, height = 109\n",
      "img.getcolors() = [(640, 0), (173, 156), (297, 189), (743, 255)]\n"
     ]
    },
    {
     "data": {
      "image/jpeg": "[encoded data removed]",
      "image/png": "[encoded data removed]",
      "text/plain": [
       "<PIL.Image.Image image mode=L size=17x109>"
      ]
     },
     "execution_count": 194,
     "metadata": {},
     "output_type": "execute_result"
    }
   ],
   "source": [
    "text = \"连续绑架事件\"\n",
    "max_columns = 2.5\n",
    "max_rows = 14\n",
    "\n",
    "max_width = int(max_columns * tile_size)\n",
    "max_height = int(max_rows * tile_size)\n",
    "\n",
    "font_size = max(max_width, max_height)\n",
    "while True:\n",
    "    img = real_bbox(\"\\n\".join(tuple(text)), font_path, font_size)\n",
    "    if img.height > max_height or img.width > max_width:\n",
    "        font_size -= 1\n",
    "    else:\n",
    "        print(f'font_size = {font_size}')\n",
    "        optimal_font_size.append(font_size)\n",
    "        break\n",
    "\n",
    "print(f'width = {img.width}, height = {img.height}')\n",
    "print(f'{img.getcolors() = }')\n",
    "img"
   ]
  },
  {
   "cell_type": "code",
   "execution_count": 195,
   "id": "7f405ad3",
   "metadata": {},
   "outputs": [],
   "source": [
    "font_size = min(optimal_font_size)\n",
    "\n",
    "text = \"女高中生\"\n",
    "max_columns = 2.5\n",
    "max_rows = 9\n",
    "max_width = int(max_columns * tile_size)\n",
    "max_height = int(max_rows * tile_size)\n",
    "img = real_bbox(\"\\n\".join(tuple(text)), font_path, font_size)\n",
    "img.save(f'{text}.png')\n",
    "\n",
    "text = \"连续绑架事件\"\n",
    "max_columns = 2.5\n",
    "max_rows = 14\n",
    "max_width = int(max_columns * tile_size)\n",
    "max_height = int(max_rows * tile_size)\n",
    "img = real_bbox(\"\\n\".join(tuple(text)), font_path, font_size)\n",
    "img.save(f'{text}.png')\n"
   ]
  }
 ],
 "metadata": {
  "kernelspec": {
   "display_name": "ws-conan-1-chs",
   "language": "python",
   "name": "python3"
  },
  "language_info": {
   "codemirror_mode": {
    "name": "ipython",
    "version": 3
   },
   "file_extension": ".py",
   "mimetype": "text/x-python",
   "name": "python",
   "nbconvert_exporter": "python",
   "pygments_lexer": "ipython3",
   "version": "3.10.11"
  }
 },
 "nbformat": 4,
 "nbformat_minor": 5
}
