{
 "cells": [
  {
   "cell_type": "code",
   "execution_count": 102,
   "id": "c864d39c",
   "metadata": {},
   "outputs": [
    {
     "name": "stdout",
     "output_type": "stream",
     "text": [
      "(0, 156, 189, 255)\n"
     ]
    }
   ],
   "source": [
    "from PIL import Image, ImageDraw, ImageFont\n",
    "from pathlib import Path\n",
    "from pprint import pp\n",
    "\n",
    "tile_size = 8\n",
    "font_path = r'..\\..\\resources\\胡晓波男神体2.0.otf'\n",
    "palette_path = Path('pal1_00-9C-BD-FF.png')\n",
    "optimal_font_size = []\n",
    "\n",
    "palette = None\n",
    "with Image.open(palette_path) as im:\n",
    "    palette = tuple(entry[1] for entry in im.convert('L').getcolors())\n",
    "\n",
    "pp(palette)"
   ]
  },
  {
   "cell_type": "code",
   "execution_count": 103,
   "id": "ccfac542",
   "metadata": {},
   "outputs": [],
   "source": [
    "def real_bbox(text, font_path: str, font_size: int) -> Image:\n",
    "    lines = tuple(text)\n",
    "    width = max([len(line) for line in lines]) * font_size\n",
    "    height = len(lines) * font_size\n",
    "    with Image.new('L', (width*3, height*3)) as img:\n",
    "        draw = ImageDraw.Draw(img)\n",
    "        font = ImageFont.truetype(font_path, font_size)\n",
    "        draw.text(\n",
    "            (width, height), \"\\n\".join(lines), font=font, fill=\"white\",\n",
    "            align=\"center\", spacing=-0.7,\n",
    "            stroke_width=0.2, stroke_fill=192\n",
    "        )\n",
    "        \n",
    "        xMin = width * 3\n",
    "        yMin = height * 3\n",
    "        xMax, yMax = 0, 0\n",
    "        for y in range(img.height):\n",
    "            for x in range(img.width):\n",
    "                if (v := img.getpixel((x, y))) not in palette:\n",
    "                    v = min(palette, key=lambda c: abs(c**2-v**2))\n",
    "                    img.putpixel((x, y), v)\n",
    "                    \n",
    "                if v != 0:\n",
    "                    xMin = min(xMin, x)\n",
    "                    yMin = min(yMin, y)\n",
    "                    xMax = max(xMax, x)\n",
    "                    yMax = max(yMax, y)\n",
    "\n",
    "        return img.crop((xMin, yMin, xMax+1, yMax+1))"
   ]
  },
  {
   "cell_type": "code",
   "execution_count": 104,
   "id": "fd2b91a5",
   "metadata": {},
   "outputs": [],
   "source": [
    "def generate_text_img(text: str, max_columns: int, max_rows: int, font_path: str) -> Image:\n",
    "    global optimal_font_size\n",
    "    max_width = int(max_columns * tile_size)\n",
    "    max_height = int(max_rows * tile_size)\n",
    "    font_size = max(max_width, max_height)\n",
    "    while True:\n",
    "        img = real_bbox(text, font_path, font_size)\n",
    "        if img.height > max_height or img.width > max_width:\n",
    "            font_size -= 1\n",
    "        else:\n",
    "            print(f'{font_size = }')\n",
    "            optimal_font_size.append(font_size)\n",
    "            break\n",
    "\n",
    "    print(f'width = {img.width}, height = {img.height}')\n",
    "    print(f'{img.getcolors() = }')\n",
    "    return img"
   ]
  },
  {
   "cell_type": "code",
   "execution_count": 105,
   "id": "630b6ed3",
   "metadata": {},
   "outputs": [
    {
     "name": "stdout",
     "output_type": "stream",
     "text": [
      "font_size = 17\n",
      "width = 17, height = 69\n",
      "img.getcolors() = [(646, 0), (32, 156), (97, 189), (398, 255)]\n"
     ]
    },
    {
     "data": {
      "image/jpeg": "[encoded data removed]",
      "image/png": "[encoded data removed]",
      "text/plain": [
       "<PIL.Image.Image image mode=L size=17x69>"
      ]
     },
     "execution_count": 105,
     "metadata": {},
     "output_type": "execute_result"
    }
   ],
   "source": [
    "text = \"女高中生\"\n",
    "max_columns = 2.5\n",
    "max_rows = 9\n",
    "\n",
    "generate_text_img(text, max_columns, max_rows, font_path)"
   ]
  },
  {
   "cell_type": "code",
   "execution_count": 106,
   "id": "ddd81578",
   "metadata": {},
   "outputs": [
    {
     "name": "stdout",
     "output_type": "stream",
     "text": [
      "font_size = 18\n",
      "width = 18, height = 111\n",
      "img.getcolors() = [(841, 0), (173, 156), (271, 189), (713, 255)]\n"
     ]
    },
    {
     "data": {
      "image/jpeg": "[encoded data removed]",
      "image/png": "[encoded data removed]",
      "text/plain": [
       "<PIL.Image.Image image mode=L size=18x111>"
      ]
     },
     "execution_count": 106,
     "metadata": {},
     "output_type": "execute_result"
    }
   ],
   "source": [
    "text = \"连续绑架事件\"\n",
    "max_columns = 2.5\n",
    "max_rows = 14\n",
    "\n",
    "generate_text_img(text, max_columns, max_rows, font_path)"
   ]
  },
  {
   "cell_type": "code",
   "execution_count": 107,
   "id": "7f405ad3",
   "metadata": {},
   "outputs": [
    {
     "name": "stdout",
     "output_type": "stream",
     "text": [
      "optimal_font_size = [17, 18]\n"
     ]
    }
   ],
   "source": [
    "font_size = min(optimal_font_size)\n",
    "print(f'{optimal_font_size = }')\n",
    "\n",
    "im_1 = real_bbox(\"女高中生\", font_path, font_size)\n",
    "im_2 = real_bbox(\"连续绑架事件\", font_path, font_size)\n",
    "\n",
    "with Image.open(\"0F0000.png\", 'r') as bg:\n",
    "    bg.paste((0,0,0), (176,160,216,272))\n",
    "    bg.paste(im_2, (176, 272-im_2.height))\n",
    "    bg.paste(im_1, (216-im_1.width, 160))\n",
    "    bg.save(\"0F0000_chs.png\")\n"
   ]
  },
  {
   "cell_type": "code",
   "execution_count": 108,
   "id": "8457b86f",
   "metadata": {},
   "outputs": [
    {
     "name": "stdout",
     "output_type": "stream",
     "text": [
      "\n",
      "(ws-conan-1-chs) d:\\Users\\John\\Code\\WS_Conan_1_CHS\\graphic\\gfx_05CE24>tool\\PixelPet\\PixelPet.exe     Import-Bitmap \"graphic\\gfx_05CE24\\pal0_00-73-42-DE.png\" Read-Palettes --palette-number 0 --palette-size 4     Convert-Palettes 32BPP     Import-Bitmap \"graphic\\gfx_05CE24\\0F0000_chs.png\" --format 32BPP     Generate-Tilemap WS --height 144    Import-Bitmap \"graphic\\gfx_05CE24\\pal5_00-9C-BD-FF.png\" Read-Palettes --palette-number 5 --palette-size 4     Import-Bitmap \"graphic\\gfx_05CE24\\pal1_00-9C-BD-FF.png\" Read-Palettes --palette-number 1 --palette-size 4 --append     Convert-Palettes 32BPP     Import-Bitmap \"graphic\\gfx_05CE24\\0F0000_chs.png\" --format 32BPP     Generate-Tilemap WS --append --y 144    Serialize-Tileset Export-Bytes \"graphic\\gfx_05CE24\\0F07F0-0F209F_chs.2bpp\"     Serialize-Tilemap Export-Bytes \"graphic\\gfx_05CE24\\0F0000_chs.tilemap\"       || exit /b 1 \n",
      "\n"
     ]
    }
   ],
   "source": [
    "import subprocess\n",
    "\n",
    "result = subprocess.run('encodegfx.bat', capture_output=True, text=True)\n",
    "print(result.stdout)"
   ]
  }
 ],
 "metadata": {
  "kernelspec": {
   "display_name": "ws-conan-1-chs",
   "language": "python",
   "name": "python3"
  },
  "language_info": {
   "codemirror_mode": {
    "name": "ipython",
    "version": 3
   },
   "file_extension": ".py",
   "mimetype": "text/x-python",
   "name": "python",
   "nbconvert_exporter": "python",
   "pygments_lexer": "ipython3",
   "version": "3.10.11"
  }
 },
 "nbformat": 4,
 "nbformat_minor": 5
}
