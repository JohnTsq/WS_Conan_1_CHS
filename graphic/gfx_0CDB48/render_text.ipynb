{
 "cells": [
  {
   "cell_type": "code",
   "execution_count": 61,
   "id": "c864d39c",
   "metadata": {},
   "outputs": [
    {
     "name": "stdout",
     "output_type": "stream",
     "text": [
      "(0, 156, 189, 255)\n"
     ]
    }
   ],
   "source": [
    "from PIL import Image, ImageDraw, ImageFont\n",
    "from pathlib import Path\n",
    "from pprint import pp\n",
    "\n",
    "tile_size = 8\n",
    "font_path = r'..\\..\\resources\\胡晓波男神体2.0.otf'\n",
    "palette_path = Path('pal1_00-9C-BD-FF.png')\n",
    "optimal_font_size = []\n",
    "\n",
    "palette = None\n",
    "with Image.open(palette_path) as im:\n",
    "    palette = tuple(entry[1] for entry in im.convert('L').getcolors())\n",
    "\n",
    "pp(palette)"
   ]
  },
  {
   "cell_type": "code",
   "execution_count": 62,
   "id": "ccfac542",
   "metadata": {},
   "outputs": [],
   "source": [
    "def real_bbox(text, font_path: str, font_size: int) -> Image:\n",
    "    lines = tuple(text)\n",
    "    width = max([len(line) for line in lines]) * font_size\n",
    "    height = len(lines) * font_size\n",
    "    with Image.new('L', (width*3, height*3)) as img:\n",
    "        draw = ImageDraw.Draw(img)\n",
    "        font = ImageFont.truetype(font_path, font_size)\n",
    "        draw.text(\n",
    "            (width, height), \"\\n\".join(lines), font=font, fill=\"white\",\n",
    "            align=\"center\", spacing=-0.95,\n",
    "            stroke_width=0.2, stroke_fill=100\n",
    "        )\n",
    "        \n",
    "        xMin = width * 3\n",
    "        yMin = height * 3\n",
    "        xMax, yMax = 0, 0\n",
    "        for y in range(img.height):\n",
    "            for x in range(img.width):\n",
    "                if (v := img.getpixel((x, y))) not in palette:\n",
    "                    v = min(palette, key=lambda c: abs(c**2-v**2))\n",
    "                    img.putpixel((x, y), v)\n",
    "                    \n",
    "                if v != 0:\n",
    "                    xMin = min(xMin, x)\n",
    "                    yMin = min(yMin, y)\n",
    "                    xMax = max(xMax, x)\n",
    "                    yMax = max(yMax, y)\n",
    "\n",
    "        return img.crop((xMin, yMin, xMax+1, yMax+1))"
   ]
  },
  {
   "cell_type": "code",
   "execution_count": 63,
   "id": "fd2b91a5",
   "metadata": {},
   "outputs": [],
   "source": [
    "def generate_text_img(text: str, max_columns: int, max_rows: int, font_path: str) -> Image:\n",
    "    global optimal_font_size\n",
    "    max_width = int(max_columns * tile_size)\n",
    "    max_height = int(max_rows * tile_size)\n",
    "    font_size = max(max_width, max_height)\n",
    "    while True:\n",
    "        img = real_bbox(text, font_path, font_size)\n",
    "        if img.height > max_height or img.width > max_width:\n",
    "            # print(f'{font_size = }  {img.height/8 = } {img.width/8 = }')\n",
    "            font_size -= 1\n",
    "        else:\n",
    "            print(f'{font_size = }')\n",
    "            optimal_font_size.append(font_size)\n",
    "            break\n",
    "\n",
    "    print(f'width = {img.width}, height = {img.height}')\n",
    "    print(f'{img.getcolors() = }')\n",
    "    return img"
   ]
  },
  {
   "cell_type": "code",
   "execution_count": 64,
   "id": "630b6ed3",
   "metadata": {},
   "outputs": [
    {
     "name": "stdout",
     "output_type": "stream",
     "text": [
      "font_size = 13\n",
      "width = 13, height = 101\n",
      "img.getcolors() = [(553, 0), (196, 156), (237, 189), (327, 255)]\n"
     ]
    },
    {
     "data": {
      "image/jpeg": "[encoded data removed]",
      "image/png": "[encoded data removed]",
      "text/plain": [
       "<PIL.Image.Image image mode=L size=13x101>"
      ]
     },
     "execution_count": 64,
     "metadata": {},
     "output_type": "execute_result"
    }
   ],
   "source": [
    "text = \"世纪末的宝藏事件\"\n",
    "max_columns = 2\n",
    "max_rows = 14\n",
    "\n",
    "generate_text_img(text, max_columns, max_rows, font_path)"
   ]
  },
  {
   "cell_type": "code",
   "execution_count": 65,
   "id": "7f405ad3",
   "metadata": {},
   "outputs": [
    {
     "name": "stdout",
     "output_type": "stream",
     "text": [
      "optimal_font_size = [13]\n"
     ]
    }
   ],
   "source": [
    "font_size = min(optimal_font_size)\n",
    "print(f'{optimal_font_size = }')\n",
    "\n",
    "im = real_bbox(\"世纪末的宝藏事件\", font_path, 14)\n",
    "\n",
    "with Image.open(\"0F82F9.png\", 'r') as bg:\n",
    "    bg.paste((0,0,0), (192,160,208,272))\n",
    "    bg.paste(im, (200-im.width//2, 160))\n",
    "    bg.save(\"0F82F9_chs.png\")\n"
   ]
  },
  {
   "cell_type": "code",
   "execution_count": 66,
   "id": "8457b86f",
   "metadata": {},
   "outputs": [
    {
     "name": "stdout",
     "output_type": "stream",
     "text": [
      "Remember to recompress the tileset!!!\n"
     ]
    }
   ],
   "source": [
    "print('Remember to recompress the tileset!!!')"
   ]
  }
 ],
 "metadata": {
  "kernelspec": {
   "display_name": "ws-conan-1-chs",
   "language": "python",
   "name": "python3"
  },
  "language_info": {
   "codemirror_mode": {
    "name": "ipython",
    "version": 3
   },
   "file_extension": ".py",
   "mimetype": "text/x-python",
   "name": "python",
   "nbconvert_exporter": "python",
   "pygments_lexer": "ipython3",
   "version": "3.10.11"
  }
 },
 "nbformat": 4,
 "nbformat_minor": 5
}
